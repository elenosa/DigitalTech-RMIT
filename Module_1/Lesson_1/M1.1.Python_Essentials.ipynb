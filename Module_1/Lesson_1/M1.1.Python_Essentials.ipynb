{
 "cells": [
  {
   "cell_type": "markdown",
   "metadata": {},
   "source": [
    "# Python Essentials  \n",
    "\n"
   ]
  },
  {
   "cell_type": "markdown",
   "metadata": {},
   "source": [
    "## 1. Why Python?  \n",
    "\n",
    "Python is a [high-level language](https://en.wikipedia.org/wiki/High-level_programming_language) (as MATLAB or R) that is known to be a glue language because it can easily interact with other programming languages and their libraries (e.g., C, C++ or Fortran).  \n",
    "\n",
    "### Strengths  \n",
    "\n",
    "- There is a rich collection of existing libraries of classic numerical methods, plotting or data processing tools. We don’t need to reinvent the wheel and re-program a numerical integration for example, we can stand on the shoulders of giants!\n",
    "- Several Integrated Development Environment (IDE) options: IPython, Spyder, Jupyter notebooks, Pycharm, Visual Studio Code...\n",
    "- It is easy and fun to use! The Python ecosystem is huge and the community is very friendly.  \n",
    "- It has a clean sytanx: \"We code what we think\"\n",
    "- It is open-source and free! (not MATLAB).\n",
    "\n",
    "\n",
    "### Cons  \n",
    "\n",
    "- Since Python is an interpreted language (not a compiled one), the main criticism is its speed. However, most speed issues can be balanced out by using appropriate data structures and algorithms.  "
   ]
  },
  {
   "cell_type": "markdown",
   "metadata": {},
   "source": [
    "## 2. As researchers we need...  \n",
    "\n",
    "- Get, organise and/or model data.  \n",
    "- Manipulate and process data.\n",
    "- Visualise data.\n",
    "\n",
    "### Python core libraries for getting things done  \n",
    "\n",
    "- [Numpy](https://numpy.org/doc/stable/user/absolute_beginners.html) for numerical computing of arrays.\n",
    "- [Scipy](https://docs.scipy.org/doc/scipy/tutorial/index.html#user-guide) for high-level routines as optimisation, interpolation, integration, differential equations, signal processing, etc.  \n",
    "- [matplotlib](https://matplotlib.org/stable/gallery/index.html) for 2D visualisation.  \n",
    "\n",
    "### A quick example  \n",
    "\n",
    "Let's generate a time-domain periodic function with frequency = 4 Hz (using numpy):\n",
    "\n",
    "$$\n",
    "\\sin 2\\pi f t.\n",
    "$$  \n",
    "\n",
    "We will compute then the Discrete Fourier Transform (scipy) and plot the wave and its corresponding frequency spectrum."
   ]
  },
  {
   "cell_type": "code",
   "execution_count": null,
   "metadata": {},
   "outputs": [],
   "source": [
    "import numpy as np  \n",
    "from matplotlib import pyplot as plt\n",
    "\n",
    "#Frequency in terms of Hertz\n",
    "freq  = 4 \n",
    "#Sample rate\n",
    "freq_samp = 20\n",
    "t = np.linspace(0, 1, 2 * freq_samp, endpoint = False ) # here we are using numpy (as np)\n",
    "a = np.sin(freq  * 2 * np.pi * t)\n",
    "figure, axis = plt.subplots() # here we are using matplotlib pyplot (as plt)\n",
    "axis.plot(t, a)\n",
    "axis.plot(t, a, 'o')\n",
    "axis.set_xlabel ('Time (s)')\n",
    "axis.set_ylabel ('Signal amplitude')\n",
    "\n",
    "print('t =', t)\n",
    "print('a =', a)\n",
    "plt.show()"
   ]
  },
  {
   "cell_type": "code",
   "execution_count": 8,
   "metadata": {},
   "outputs": [
    {
     "name": "stderr",
     "output_type": "stream",
     "text": [
      "C:\\Users\\s3761375\\AppData\\Local\\anaconda3\\lib\\site-packages\\ipykernel_launcher.py:7: UserWarning: In Matplotlib 3.3 individual lines on a stem plot will be added as a LineCollection instead of individual lines. This significantly improves the performance of a stem plot. To remove this warning and switch to the new behaviour, set the \"use_line_collection\" keyword argument to True.\n",
      "  import sys\n"
     ]
    },
    {
     "data": {
      "image/png": "[encoded data removed]",
      "text/plain": [
       "<Figure size 432x288 with 1 Axes>"
      ]
     },
     "metadata": {
      "needs_background": "light"
     },
     "output_type": "display_data"
    }
   ],
   "source": [
    "from scipy import fftpack\n",
    "\n",
    "A = fftpack.fft(a) # here we are using scipy\n",
    "frequency = fftpack.fftfreq(len(a)) * freq_samp\n",
    "figure, axis = plt.subplots()\n",
    "\n",
    "axis.stem(frequency, np.abs(A))\n",
    "axis.set_xlabel('Frequency in Hz')\n",
    "axis.set_ylabel('Frequency Spectrum Magnitude')\n",
    "axis.set_xlim(-freq_samp / 2, freq_samp/ 2)\n",
    "axis.set_ylim(-5, 110)\n",
    "plt.show()"
   ]
  },
  {
   "cell_type": "markdown",
   "metadata": {},
   "source": [
    "### Other packages... more specific\n",
    "\n",
    "- [Mayavi](http://scipy-lectures.org/packages/3d_plotting/index.html#mayavi-label) for 3D visualisation.\n",
    "- [pandas, statsmodels, seaborn](http://scipy-lectures.org/packages/statistics/index.html#statistics) for statistics.\n",
    "- [sympy](http://scipy-lectures.org/packages/sympy.html#sympy) for symbolic computing.\n",
    "- [scikit-learn](http://scipy-lectures.org/packages/scikit-learn/index.html#scikit-learn-chapter) for machine learning.\n",
    "- [scikit-image](http://scipy-lectures.org/packages/scikit-image/index.html#scikit-image) for image processing."
   ]
  },
  {
   "cell_type": "markdown",
   "metadata": {},
   "source": [
    "## 3. The basics: Python objects (data types and structures)  \n",
    "\n",
    "### Variables and types\n",
    "\n",
    "To assign a value to a name, simply use the equals sign (=)"
   ]
  },
  {
   "cell_type": "code",
   "execution_count": 16,
   "metadata": {},
   "outputs": [
    {
     "name": "stdout",
     "output_type": "stream",
     "text": [
      "Hello and welcome to RMIT Rosalind Franklin!\n"
     ]
    }
   ],
   "source": [
    "my_name = 'Rosalind Franklin'\n",
    "print(\"Hello and welcome to RMIT \" + my_name + \"!\")"
   ]
  },
  {
   "cell_type": "markdown",
   "metadata": {},
   "source": [
    "WATCH OUT!: Variables cannot start with numbers"
   ]
  },
  {
   "cell_type": "code",
   "execution_count": 17,
   "metadata": {},
   "outputs": [
    {
     "ename": "SyntaxError",
     "evalue": "invalid syntax (<ipython-input-17-2b55d6c1b26e>, line 1)",
     "output_type": "error",
     "traceback": [
      "\u001b[1;36m  File \u001b[1;32m\"<ipython-input-17-2b55d6c1b26e>\"\u001b[1;36m, line \u001b[1;32m1\u001b[0m\n\u001b[1;33m    5km_run = 'sprint'\u001b[0m\n\u001b[1;37m          ^\u001b[0m\n\u001b[1;31mSyntaxError\u001b[0m\u001b[1;31m:\u001b[0m invalid syntax\n"
     ]
    }
   ],
   "source": [
    "5km_run = 'sprint'"
   ]
  },
  {
   "cell_type": "markdown",
   "metadata": {},
   "source": [
    "All variables are typed, i.e., Python use this differentiation to dictate their properties and how they are used.  \n",
    "\n",
    "Here the well-known types: integers, floating-point numbers and strings are called *literal types*"
   ]
  },
  {
   "cell_type": "code",
   "execution_count": 25,
   "metadata": {},
   "outputs": [
    {
     "name": "stdout",
     "output_type": "stream",
     "text": [
      "Welcome to RMIT Bundoora! Here you can find  0.1  students per kangaroo\n"
     ]
    }
   ],
   "source": [
    "campus = 'RMIT Bundoora'\n",
    "kangaroo_population = 50 # int type because it has only digits\n",
    "student_population = 5\n",
    "population_ratio = student_population/kangaroo_population # float type\n",
    "\n",
    "print(\"Welcome to \" + campus + \"! Here you can find \", population_ratio, \" students per kangaroo\")"
   ]
  },
  {
   "cell_type": "code",
   "execution_count": 22,
   "metadata": {},
   "outputs": [
    {
     "data": {
      "text/plain": [
       "str"
      ]
     },
     "execution_count": 22,
     "metadata": {},
     "output_type": "execute_result"
    }
   ],
   "source": [
    "type(campus)"
   ]
  },
  {
   "cell_type": "code",
   "execution_count": 23,
   "metadata": {},
   "outputs": [
    {
     "data": {
      "text/plain": [
       "int"
      ]
     },
     "execution_count": 23,
     "metadata": {},
     "output_type": "execute_result"
    }
   ],
   "source": [
    "type(kangaroo_population) "
   ]
  },
  {
   "cell_type": "code",
   "execution_count": 28,
   "metadata": {},
   "outputs": [
    {
     "data": {
      "text/plain": [
       "float"
      ]
     },
     "execution_count": 28,
     "metadata": {},
     "output_type": "execute_result"
    }
   ],
   "source": [
    "type(population_ratio)"
   ]
  },
  {
   "attachments": {},
   "cell_type": "markdown",
   "metadata": {},
   "source": [
    "But there are other types:   \n",
    "\n",
    "- Complex\n",
    "- Bool\n",
    "- bytes\n",
    "- bytearray\n",
    "- **list**\n",
    "- **tuple**\n",
    "- **set**\n",
    "- **dictionary**\n",
    "- frozenset\n",
    "- none\n",
    "- range  \n",
    "\n",
    "This leads us to the next subject..."
   ]
  },
  {
   "cell_type": "markdown",
   "metadata": {},
   "source": [
    "### Data structures: Essential containers"
   ]
  },
  {
   "cell_type": "markdown",
   "metadata": {},
   "source": [
    "Python comes with built-in data structures or containers that allow to store and access data.  \n",
    "\n",
    "These data structures are called **list, tuple, dictionary and set** and are used to *contain* many other variables.  \n",
    "\n",
    "You can stick integers or floats or strings into these containers."
   ]
  },
  {
   "cell_type": "markdown",
   "metadata": {},
   "source": [
    "#### List: they are mutable"
   ]
  },
  {
   "cell_type": "code",
   "execution_count": 47,
   "metadata": {},
   "outputs": [
    {
     "name": "stdout",
     "output_type": "stream",
     "text": [
      "[6, 28]\n",
      "[1000.0, -2, 'I am in a list.']\n",
      "[[1.0, 0.0], [0.0, 1.0]]\n"
     ]
    }
   ],
   "source": [
    "a = [6, 28]\n",
    "b = [1e3, -2, \"I am in a list.\"]\n",
    "c = [[1.0, 0.0], [0.0, 1.0]]\n",
    "\n",
    "print(a)\n",
    "print(b)\n",
    "print(c)"
   ]
  },
  {
   "cell_type": "code",
   "execution_count": 39,
   "metadata": {},
   "outputs": [
    {
     "name": "stdout",
     "output_type": "stream",
     "text": [
      "colours =  ['Green', 'Blue', 'Red']\n",
      "Green\n",
      "Red\n"
     ]
    }
   ],
   "source": [
    "# Create an empty list\n",
    "colours = []\n",
    "\n",
    "colours.append(\"Green\") # This is the append() method which adds single elements to the end of the list\n",
    "colours.append(\"Blue\")\n",
    "colours.append(\"Red\")\n",
    "\n",
    "print(\"colours = \", colors)\n",
    "print(colours[0])\n",
    "print(colours[2])"
   ]
  },
  {
   "cell_type": "code",
   "execution_count": 48,
   "metadata": {},
   "outputs": [
    {
     "name": "stdout",
     "output_type": "stream",
     "text": [
      "['Black', 'Blue', 'Red']\n",
      "[6, 28, 1000.0, -2, 'I am in a list.']\n",
      "['Black', 'Blue', 'Red', 'Black', 'Blue', 'Red', 'Black', 'Blue', 'Red']\n"
     ]
    },
    {
     "data": {
      "text/plain": [
       "[1, 2, 3, 1, 2, 3, 1, 2, 3, 1, 2, 3]"
      ]
     },
     "execution_count": 48,
     "metadata": {},
     "output_type": "execute_result"
    }
   ],
   "source": [
    "# Mutable, why?\n",
    "colours[0] = \"Black\"\n",
    "print(colours)\n",
    "\n",
    "# some tricks to manipulate lists\n",
    "\n",
    "add_ab = a + b\n",
    "print(a+b)\n",
    "\n",
    "repeat_colours = colours*3\n",
    "print(repeat_colours)\n",
    "\n",
    "[1,2,3]*4"
   ]
  },
  {
   "cell_type": "markdown",
   "metadata": {},
   "source": [
    "#### Tuple: they are not mutable"
   ]
  },
  {
   "cell_type": "code",
   "execution_count": 50,
   "metadata": {},
   "outputs": [],
   "source": [
    "a_t = 1, 2, 5, 3 # length-4 tuple\n",
    "b_t = (42,) # length-1 tuple, defined by comma"
   ]
  },
  {
   "cell_type": "code",
   "execution_count": 53,
   "metadata": {},
   "outputs": [
    {
     "name": "stdout",
     "output_type": "stream",
     "text": [
      "(1, 2, 5, 3, 42)\n"
     ]
    },
    {
     "data": {
      "text/plain": [
       "(1, 2, 5, 3, 1, 2, 5, 3, 1, 2, 5, 3, 1, 2, 5, 3)"
      ]
     },
     "execution_count": 53,
     "metadata": {},
     "output_type": "execute_result"
    }
   ],
   "source": [
    "# the same tricks to manipulate tuples\n",
    "\n",
    "print(a_t+b_t)\n",
    "a_t*4"
   ]
  },
  {
   "cell_type": "code",
   "execution_count": 56,
   "metadata": {},
   "outputs": [
    {
     "name": "stdout",
     "output_type": "stream",
     "text": [
      "1\n"
     ]
    },
    {
     "ename": "TypeError",
     "evalue": "'tuple' object does not support item assignment",
     "output_type": "error",
     "traceback": [
      "\u001b[1;31m---------------------------------------------------------------------------\u001b[0m",
      "\u001b[1;31mTypeError\u001b[0m                                 Traceback (most recent call last)",
      "\u001b[1;32m<ipython-input-56-7a0d3d123f1b>\u001b[0m in \u001b[0;36m<module>\u001b[1;34m\u001b[0m\n\u001b[0;32m      1\u001b[0m \u001b[1;31m# they are not mutable\u001b[0m\u001b[1;33m\u001b[0m\u001b[1;33m\u001b[0m\u001b[1;33m\u001b[0m\u001b[0m\n\u001b[0;32m      2\u001b[0m \u001b[0mprint\u001b[0m\u001b[1;33m(\u001b[0m\u001b[0ma_t\u001b[0m\u001b[1;33m[\u001b[0m\u001b[1;36m0\u001b[0m\u001b[1;33m]\u001b[0m\u001b[1;33m)\u001b[0m\u001b[1;33m\u001b[0m\u001b[1;33m\u001b[0m\u001b[0m\n\u001b[1;32m----> 3\u001b[1;33m \u001b[0ma_t\u001b[0m\u001b[1;33m[\u001b[0m\u001b[1;36m0\u001b[0m\u001b[1;33m]\u001b[0m \u001b[1;33m=\u001b[0m \u001b[1;36m365\u001b[0m\u001b[1;33m\u001b[0m\u001b[1;33m\u001b[0m\u001b[0m\n\u001b[0m",
      "\u001b[1;31mTypeError\u001b[0m: 'tuple' object does not support item assignment"
     ]
    }
   ],
   "source": [
    "# they are not mutable\n",
    "print(a_t[0])\n",
    "a_t[0] = 365\n"
   ]
  },
  {
   "cell_type": "code",
   "execution_count": 57,
   "metadata": {},
   "outputs": [
    {
     "ename": "AttributeError",
     "evalue": "'tuple' object has no attribute 'append'",
     "output_type": "error",
     "traceback": [
      "\u001b[1;31m---------------------------------------------------------------------------\u001b[0m",
      "\u001b[1;31mAttributeError\u001b[0m                            Traceback (most recent call last)",
      "\u001b[1;32m<ipython-input-57-081f0f755cb1>\u001b[0m in \u001b[0;36m<module>\u001b[1;34m\u001b[0m\n\u001b[0;32m      1\u001b[0m \u001b[1;31m#  And we cannot use append() method neither\u001b[0m\u001b[1;33m\u001b[0m\u001b[1;33m\u001b[0m\u001b[1;33m\u001b[0m\u001b[0m\n\u001b[1;32m----> 2\u001b[1;33m \u001b[0ma_t\u001b[0m\u001b[1;33m.\u001b[0m\u001b[0mappend\u001b[0m\u001b[1;33m(\u001b[0m\u001b[1;36m56\u001b[0m\u001b[1;33m)\u001b[0m\u001b[1;33m\u001b[0m\u001b[1;33m\u001b[0m\u001b[0m\n\u001b[0m",
      "\u001b[1;31mAttributeError\u001b[0m: 'tuple' object has no attribute 'append'"
     ]
    }
   ],
   "source": [
    "#  And we cannot use append() method neither\n",
    "a_t.append(56)"
   ]
  },
  {
   "cell_type": "markdown",
   "metadata": {},
   "source": [
    "#### Set: unordered container of unique values and cannot be indexed"
   ]
  },
  {
   "cell_type": "code",
   "execution_count": 61,
   "metadata": {},
   "outputs": [
    {
     "name": "stdout",
     "output_type": "stream",
     "text": [
      "{2.0, (16,), 4, 'eight'}\n"
     ]
    },
    {
     "data": {
      "text/plain": [
       "{'K', 'a', 'g', 'n', 'o', 'r'}"
      ]
     },
     "execution_count": 61,
     "metadata": {},
     "output_type": "execute_result"
    }
   ],
   "source": [
    "# a literal set formed with elements of various types\n",
    "{1.0, 10, \"one hundred\", (1, 0, 0,0)}\n",
    "\n",
    "# a literal set of special values\n",
    "{True, False, None, \"\", 0.0, 0}\n",
    "\n",
    "# conversion from a list to a set\n",
    "print(set([2.0, 4, \"eight\", (16,)]))\n",
    "\n",
    "# conversion from a string to set\n",
    "set(\"Kangaroo\") # HEY! Can you tell why we got this output!?"
   ]
  },
  {
   "cell_type": "code",
   "execution_count": 62,
   "metadata": {},
   "outputs": [],
   "source": [
    "s = {1,2,3}\n",
    "t = {3,4,5}"
   ]
  },
  {
   "attachments": {
    "image.png": {
     "image/png": "[encoded data removed]"
    }
   },
   "cell_type": "markdown",
   "metadata": {},
   "source": [
    "Now try this  \n",
    "\n",
    "![image.png](attachment:image.png)"
   ]
  },
  {
   "cell_type": "markdown",
   "metadata": {},
   "source": [
    "#### Dictionary: the most important data structure in Python. It is a mutable, unordered collection of unique key/value pairs"
   ]
  },
  {
   "cell_type": "code",
   "execution_count": 76,
   "metadata": {},
   "outputs": [],
   "source": [
    "# A dictionary on one line that stores Grace Hopper's information\n",
    "\n",
    "grace = {\"first\": \"Grace\", \"last\": \"Hopper\", \"birthday\": [9, 12, 1906]}\n",
    "\n",
    "\n",
    "# You can split up dicts onto many lines\n",
    "constants = {\n",
    "'pi': 3.14159,\n",
    "\"e\": 2.718,\n",
    "\"h\": 6.62606957e-34,\n",
    "True: 1.0,\n",
    "}\n",
    "\n",
    "# A dict being formed from a list of (key, value) tuples\n",
    "axes = dict([(1, \"x\"), (2, \"y\"), (3, \"z\")])"
   ]
  },
  {
   "cell_type": "code",
   "execution_count": 69,
   "metadata": {},
   "outputs": [
    {
     "data": {
      "text/plain": [
       "2.718"
      ]
     },
     "execution_count": 69,
     "metadata": {},
     "output_type": "execute_result"
    }
   ],
   "source": [
    "constants['e']"
   ]
  },
  {
   "cell_type": "code",
   "execution_count": 70,
   "metadata": {},
   "outputs": [
    {
     "data": {
      "text/plain": [
       "'z'"
      ]
     },
     "execution_count": 70,
     "metadata": {},
     "output_type": "execute_result"
    }
   ],
   "source": [
    "axes[3]"
   ]
  },
  {
   "cell_type": "code",
   "execution_count": 71,
   "metadata": {},
   "outputs": [
    {
     "data": {
      "text/plain": [
       "[9, 12, 1906]"
      ]
     },
     "execution_count": 71,
     "metadata": {},
     "output_type": "execute_result"
    }
   ],
   "source": [
    "grace['birthday']"
   ]
  },
  {
   "cell_type": "code",
   "execution_count": 74,
   "metadata": {},
   "outputs": [
    {
     "data": {
      "text/plain": [
       "{'pi': 3.14159, 'e': 2.718, 'h': 6.62606957e-34, True: 1.0, False: 0.0}"
      ]
     },
     "execution_count": 74,
     "metadata": {},
     "output_type": "execute_result"
    }
   ],
   "source": [
    "# They are mutable\n",
    "\n",
    "constants[False] = 0.0\n",
    "constants"
   ]
  },
  {
   "cell_type": "code",
   "execution_count": 77,
   "metadata": {},
   "outputs": [
    {
     "data": {
      "text/plain": [
       "{1: 'x', 2: 'y'}"
      ]
     },
     "execution_count": 77,
     "metadata": {},
     "output_type": "execute_result"
    }
   ],
   "source": [
    "del axes[3]\n",
    "axes"
   ]
  },
  {
   "cell_type": "code",
   "execution_count": 79,
   "metadata": {},
   "outputs": [
    {
     "data": {
      "text/plain": [
       "{'first': 'Grace, a pioneer of computer programming',\n",
       " 'last': 'Hopper',\n",
       " 'birthday': [9, 12, 1906]}"
      ]
     },
     "execution_count": 79,
     "metadata": {},
     "output_type": "execute_result"
    }
   ],
   "source": [
    "grace['first'] = \"Grace, a pioneer of computer programming\"\n",
    "grace"
   ]
  },
  {
   "cell_type": "code",
   "execution_count": null,
   "metadata": {},
   "outputs": [],
   "source": []
  }
 ],
 "metadata": {
  "kernelspec": {
   "display_name": "Python 3",
   "language": "python",
   "name": "python3"
  },
  "language_info": {
   "codemirror_mode": {
    "name": "ipython",
    "version": 3
   },
   "file_extension": ".py",
   "mimetype": "text/x-python",
   "name": "python",
   "nbconvert_exporter": "python",
   "pygments_lexer": "ipython3",
   "version": "3.7.4"
  }
 },
 "nbformat": 4,
 "nbformat_minor": 4
}
