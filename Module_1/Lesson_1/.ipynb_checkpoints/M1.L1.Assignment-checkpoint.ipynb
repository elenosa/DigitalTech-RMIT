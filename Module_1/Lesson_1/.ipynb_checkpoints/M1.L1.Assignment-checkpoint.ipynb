{
 "cells": [
  {
   "cell_type": "markdown",
   "metadata": {},
   "source": [
    "# Module 1, Lesson 1 -  Assignment"
   ]
  },
  {
   "cell_type": "markdown",
   "metadata": {},
   "source": [
    "## 1.   \n",
    "\n",
    "Given the tuples  \n",
    "\n",
    "`ex1 = (0, 1, 1, 2, 3, 5, 8, 13, 21, 34,)`  \n",
    "`ex2 = (1, 2, 3, 1, 4, 2, 5, 3, 1, 4, 6, 2, 7, 5, 3, 1, 8, 4, 9, 6)`  \n"
   ]
  },
  {
   "cell_type": "markdown",
   "metadata": {},
   "source": [
    "- Create a list called `ex3` with the odd-index element from the tuple `ex1` and even index elements from the tuple `ex2`  \n",
    "\n",
    "- Slice `ex3` into 4 equal chunks and sort each chunk in increasing order"
   ]
  },
  {
   "cell_type": "markdown",
   "metadata": {},
   "source": [
    "## 2.  \n",
    "\n",
    "Given the sets  \n",
    "\n",
    "`set1 = {1, 2, 3, 1, 4, 2, 5, 3, 1, 6}`  \n",
    "`set2 = {2, 13, 11, 9, 7, 5, 3, 1, 14, 12, 10, 8, 6}`\n",
    "\n",
    "- Check if `set2` is a superset of `set1`.  \n",
    "\n",
    "- If `True`, delete the corresponding elements from the subset."
   ]
  },
  {
   "cell_type": "markdown",
   "metadata": {},
   "source": [
    "## 3.  \n",
    "\n",
    "Given the list and dictionary  \n",
    "\n",
    "`rmit_student = [247, 674, 106, 3, 733, 83, 944]`  \n",
    "\n",
    "`name_dict = {'Jordan':247, 'Mahler':733, 'Rosalia':944, 'Rosenbaum':106}`  \n",
    "\n",
    "\n",
    "- Go through `rmit_student` and check if a given element exists as a corresponding value in the pairs from the dictionary `name_dict`. If not, delete it from the list"
   ]
  },
  {
   "cell_type": "code",
   "execution_count": null,
   "metadata": {},
   "outputs": [],
   "source": []
  }
 ],
 "metadata": {
  "kernelspec": {
   "display_name": "Python 3",
   "language": "python",
   "name": "python3"
  },
  "language_info": {
   "codemirror_mode": {
    "name": "ipython",
    "version": 3
   },
   "file_extension": ".py",
   "mimetype": "text/x-python",
   "name": "python",
   "nbconvert_exporter": "python",
   "pygments_lexer": "ipython3",
   "version": "3.7.4"
  }
 },
 "nbformat": 4,
 "nbformat_minor": 4
}
