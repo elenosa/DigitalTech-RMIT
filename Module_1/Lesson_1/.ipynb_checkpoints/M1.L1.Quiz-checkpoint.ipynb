{
 "cells": [
  {
   "cell_type": "markdown",
   "metadata": {},
   "source": [
    "# Module 1, Lesson 1 - Quiz  "
   ]
  },
  {
   "cell_type": "markdown",
   "metadata": {},
   "source": [
    "1. What are the literal data types in Python?  \n",
    "\n",
    "a.\tIntegers  \n",
    "b.\tFloating-point  \n",
    "c.\tStrings  \n",
    "d.\tAll the above **(correct)**  "
   ]
  },
  {
   "cell_type": "markdown",
   "metadata": {},
   "source": [
    "2. What data types can be found in Python? \n",
    "\n",
    "a.\tNumeric (integers, floats, complex)   \n",
    "b.\tBoolean (True, False)  \n",
    "c.\tSequences (list, tuples, strings)   \n",
    "d.\tDictionaries ({key: values} pairs)  \n",
    "e.\tAll the above **(correct)**  "
   ]
  },
  {
   "cell_type": "markdown",
   "metadata": {},
   "source": [
    "3. What function returns the type of a Python object?  \n",
    "\n",
    "a.\t`object()`  \n",
    "b.\t`class() `   \n",
    "c.\t`type()` **(correct)**  \n",
    "d.\t`whatis()` \n"
   ]
  },
  {
   "cell_type": "markdown",
   "metadata": {},
   "source": [
    "4. If we want to use a variable from an external Python module in our current code, what is the attribute access operator that does the job?  \n",
    "\n",
    "a.\tThere is no way to import variables from other codes  \n",
    "b.\tUse `+` at the end of the variable name and add the `module.py` name  \n",
    "c.\tUse `+` at the beginning of the variable name and add the `module.py` name  \n",
    "d.\tAfter importing the module with `import module_name.py`, use the `(.)` operator when calling the variable, i.e., `module_name.variable` **(correct)**  \n"
   ]
  },
  {
   "cell_type": "markdown",
   "metadata": {},
   "source": [
    "5. Lists can contain any Python object and therefore, you could type `[{'half marathon': 21}, True, 13.1, 'miles']`  \n",
    "\n",
    "a.\tTrue **(correct)**  \n",
    "b.\tFalse  \n"
   ]
  },
  {
   "cell_type": "markdown",
   "metadata": {},
   "source": [
    "6. The update() method updates a dictionary with elements from another dictionary object or from a key/value pair. Using `axes.update({1: “r”, 4:”‘t”})` on the dictionary `axes = {1 : “x”, 2: “y”, 3: “z”}`, the output is\n",
    "\n",
    "a.\t`axes = {1: 'r', 2: 'y', 3: 'z', 4: 't'}` **(correct)**  \n",
    "b.\tError. A dictionary is immutable  \n",
    "c.\t`axes = {1: “r”, 4:”‘t”}`  \n",
    "d.\tAny of the above  \n"
   ]
  },
  {
   "cell_type": "code",
   "execution_count": null,
   "metadata": {},
   "outputs": [],
   "source": []
  }
 ],
 "metadata": {
  "kernelspec": {
   "display_name": "Python 3",
   "language": "python",
   "name": "python3"
  },
  "language_info": {
   "codemirror_mode": {
    "name": "ipython",
    "version": 3
   },
   "file_extension": ".py",
   "mimetype": "text/x-python",
   "name": "python",
   "nbconvert_exporter": "python",
   "pygments_lexer": "ipython3",
   "version": "3.7.4"
  }
 },
 "nbformat": 4,
 "nbformat_minor": 4
}
