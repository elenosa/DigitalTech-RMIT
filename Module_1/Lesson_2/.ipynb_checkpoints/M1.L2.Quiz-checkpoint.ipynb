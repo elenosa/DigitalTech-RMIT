{
 "cells": [
  {
   "cell_type": "markdown",
   "metadata": {},
   "source": [
    "# Module 1, Lesson 2 - Quiz  "
   ]
  },
  {
   "cell_type": "code",
   "execution_count": 1,
   "metadata": {},
   "outputs": [
    {
     "name": "stdout",
     "output_type": "stream",
     "text": [
      "Pluto is not a planet! Technically is a dwarf planet\n"
     ]
    }
   ],
   "source": [
    "x = 'Pluto'\n",
    " \n",
    "if x == 'Venus':\n",
    "    temp = 465\n",
    "    print(\"Max surface temperature °C:\", temp)\n",
    "if x == 'Mercury':\n",
    "    temp = 449\n",
    "    print(\"Max surface temperature °C:\", temp)\n",
    "if x == 'Pluto':\n",
    "    print(\"Pluto is not a planet! Technically, it's a dwarf planet\")\n",
    "if x == 'Earth':\n",
    "    temp = 58\n",
    "    print(\"Max surface temperature °C:\", temp)"
   ]
  },
  {
   "cell_type": "markdown",
   "metadata": {},
   "source": [
    "1. With above code, what would be printed to the terminal?  \n",
    "\n",
    "    a.\t\"Pluto is not a planet! Technically, it's a dwarf planet\" **(correct)**    \n",
    "    b.\t\"Max surface temperature °C: 465\"   \n",
    "    c.\t\"Max surface temperature °C: 449\"  \n",
    "    d.\t\"Max surface temperature °C: 58\"   "
   ]
  },
  {
   "cell_type": "code",
   "execution_count": null,
   "metadata": {},
   "outputs": [],
   "source": [
    "x = -1e-19\n",
    " \n",
    "if x = 0:\n",
    "  print(\"x is equal to zero.\")\n",
    "elif x >= 0:\n",
    "  print(\"x is greater than zero.\")\n",
    "else:\n",
    "  print(\"x is less than zero.\")"
   ]
  },
  {
   "cell_type": "markdown",
   "metadata": {},
   "source": [
    "2 With above code, what would be printed to the terminal?  \n",
    "\n",
    "    a.\t\"x is equal to zero.\"   \n",
    "    b.\t\"x is greater than zero.\"  \n",
    "    c.\t\"x is less than zero.\"  \n",
    "    d.\tSyntaxError **(correct)**  "
   ]
  },
  {
   "cell_type": "markdown",
   "metadata": {},
   "source": [
    "3. What is the syntax for handling exceptions in Python?  \n",
    "\n",
    "    a.\t`run-except` block   \n",
    "    b.\t`try-except` block  **(correct)**   \n",
    "    c.\t`except-try` block     \n",
    "    d.\tPython only deal with expected behaviours and normal flow control \n"
   ]
  },
  {
   "cell_type": "code",
   "execution_count": null,
   "metadata": {},
   "outputs": [],
   "source": [
    "# Swipes on Tinder\n",
    "swipes = {'Mario': 'attractive', 'Natasha':'attractive', 'Brunna':'complicated'}\n",
    "\n",
    "for date, impression in swipes.items():\n",
    "    if impression != 'complicated':\n",
    "        print(\"Hi %s! Let's have a coffee\"%(date))\n",
    "    else:\n",
    "        print(\"Sorry %s, I cannot get you. I wish you the best\"%(date))"
   ]
  },
  {
   "cell_type": "markdown",
   "metadata": {},
   "source": [
    "4. Considering above code, what would be printed to the terminal when `impression == 'complicated'`?  \n",
    "\n",
    "    a.\t\"Hi Natasha! I cannot get you. I wish you the best\"   \n",
    "    b.\t\"Sorry Brunna, I cannot get you. I wish you the best\"  **(correct)**   \n",
    "    c.\t\"Sorry Mario, I cannot get you. Let's have a coffee\"    \n",
    "    d.\t\"Hi Mario! Let's have a coffee\""
   ]
  },
  {
   "cell_type": "code",
   "execution_count": 9,
   "metadata": {},
   "outputs": [
    {
     "name": "stdout",
     "output_type": "stream",
     "text": [
      "Sorry, I can't print that for you.\n"
     ]
    }
   ],
   "source": [
    "while False:\n",
    "    print(\"I feel happy when you ask me about my PhD thesis!\")\n",
    "print(\"Sorry, I can't print that for you.\")"
   ]
  },
  {
   "cell_type": "markdown",
   "metadata": {},
   "source": [
    "5. Considering above code, what would be printed to the terminal?  \n",
    "\n",
    "    a.\t\"I feel happy when you ask me about my PhD thesis!\" and \"Sorry, I can't print that for you.\"  \n",
    "    b.\t\"I feel happy when you ask me about my PhD thesis!\"     \n",
    "    c.\t\"Sorry, I can't print that for you.\" **(correct)**     \n",
    "  "
   ]
  },
  {
   "cell_type": "code",
   "execution_count": null,
   "metadata": {},
   "outputs": [],
   "source": []
  }
 ],
 "metadata": {
  "kernelspec": {
   "display_name": "Python 3",
   "language": "python",
   "name": "python3"
  },
  "language_info": {
   "codemirror_mode": {
    "name": "ipython",
    "version": 3
   },
   "file_extension": ".py",
   "mimetype": "text/x-python",
   "name": "python",
   "nbconvert_exporter": "python",
   "pygments_lexer": "ipython3",
   "version": "3.7.4"
  }
 },
 "nbformat": 4,
 "nbformat_minor": 4
}
