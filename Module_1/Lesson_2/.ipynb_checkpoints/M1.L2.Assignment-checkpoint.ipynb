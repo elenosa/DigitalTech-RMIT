{
 "cells": [
  {
   "cell_type": "markdown",
   "metadata": {},
   "source": [
    "# Module 1, Lesson 2 -  Assignment"
   ]
  },
  {
   "cell_type": "markdown",
   "metadata": {},
   "source": [
    "## 1.   Estimate the value of Pi \n",
    "\n",
    "### 1.1 Using the Wallis formula:  \n",
    "\n",
    "$$\n",
    "\\pi = 2\\prod_{i = 1}^{\\infty} \\frac{4i^{2}}{4i^{2}-1}\n",
    "$$  \n",
    "\n",
    "### 1.2 Using the Monte Carlo method, improve the estimation of $\\pi$ with increasing iterations \n",
    "\n",
    "Consider the largest circle which can be fit in a square ranging on $\\mathbb{R}^2$ over $[-1, 1]^{2}$.  \n",
    "- Radius and area of the circle $r =1$, $a_{circ} = \\pi$.  \n",
    "- The area of the square $a_{sqr} = 2^{2} = 4$.  \n",
    "- The ratio between their areas is thus $\\pi/4$.  \n",
    "\n",
    "Follow this procedure:  \n",
    "\n",
    "- Assume a square domain over $[-1, 1]^{2}$    \n",
    "- Randomly scatter a large number `N` of points over the square  \n",
    "- Consider the largest circle that fits inside the square and count how many points fell inside the circle  \n",
    "- The count divided by `N` and multiplied by $4$ is an approximation of $\\pi$\n",
    "\n",
    "\n",
    "\n"
   ]
  },
  {
   "cell_type": "code",
   "execution_count": null,
   "metadata": {},
   "outputs": [],
   "source": []
  }
 ],
 "metadata": {
  "kernelspec": {
   "display_name": "Python 3",
   "language": "python",
   "name": "python3"
  },
  "language_info": {
   "codemirror_mode": {
    "name": "ipython",
    "version": 3
   },
   "file_extension": ".py",
   "mimetype": "text/x-python",
   "name": "python",
   "nbconvert_exporter": "python",
   "pygments_lexer": "ipython3",
   "version": "3.7.4"
  }
 },
 "nbformat": 4,
 "nbformat_minor": 4
}
