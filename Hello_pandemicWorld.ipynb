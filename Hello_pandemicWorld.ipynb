{
 "cells": [
  {
   "cell_type": "markdown",
   "metadata": {},
   "source": [
    "# Hey HDR... start here! - This is a Jupyter Notebook\n",
    "\n",
    "First things first!  \n",
    "\n",
    "A notebook is an interactive tool that allows developing and presenting data science projects.  \n",
    "\n",
    "It integrates code snippets, narrative text for explanation, data visualisation (charts, graphs, etc), equations and other rich media in one sigle document.\n",
    "\n",
    "## What you need to follow a notebook \n",
    "\n",
    "- Run cell and move to next one ``Shift-Enter``  \n",
    "\n",
    "- Run cell ``Ctrl-Enter``  \n",
    "\n",
    "- Select cells:  \n",
    "\n",
    "    - **DOWN** ``Shift-Down`` or ``Shift-J``  \n",
    "    - **UP** ``Shift-Up`` or ``Shift-K``\n",
    "\n",
    "- Run cell and insert below  ``Alt-Enter``  \n",
    "    \n",
    "Now go ahead and select this [Markdown](https://en.wikipedia.org/wiki/Markdown) cell (this one with all this text). Then, try `Shift-Enter` \n",
    "    "
   ]
  },
  {
   "cell_type": "markdown",
   "metadata": {},
   "source": [
    "## Let's run our first code snippets  \n",
    "\n",
    "And what best but the modern version of Hello World!  \n",
    "\n",
    "Remember to ``Shift-Enter``"
   ]
  },
  {
   "cell_type": "code",
   "execution_count": 22,
   "metadata": {},
   "outputs": [
    {
     "name": "stdout",
     "output_type": "stream",
     "text": [
      "Hello pandemic World!\n"
     ]
    }
   ],
   "source": [
    "print('Hello pandemic World!')"
   ]
  },
  {
   "cell_type": "markdown",
   "metadata": {},
   "source": [
    "To get help and more information about an Python object, you can use the **?** operator "
   ]
  },
  {
   "cell_type": "code",
   "execution_count": 23,
   "metadata": {},
   "outputs": [],
   "source": [
    "print?"
   ]
  },
  {
   "cell_type": "code",
   "execution_count": 24,
   "metadata": {},
   "outputs": [],
   "source": [
    "int?"
   ]
  },
  {
   "cell_type": "markdown",
   "metadata": {},
   "source": [
    "To introduce comments in Python scripts, **#** is used"
   ]
  },
  {
   "cell_type": "code",
   "execution_count": 25,
   "metadata": {},
   "outputs": [],
   "source": [
    "# This line is a comment when coding in Python\n",
    "this_part = 'is not a comment, is a string' # This is a comment again"
   ]
  },
  {
   "cell_type": "code",
   "execution_count": 26,
   "metadata": {},
   "outputs": [
    {
     "data": {
      "text/plain": [
       "'is not a comment, is a string'"
      ]
     },
     "execution_count": 26,
     "metadata": {},
     "output_type": "execute_result"
    }
   ],
   "source": [
    "this_part"
   ]
  },
  {
   "cell_type": "markdown",
   "metadata": {},
   "source": [
    "If you did not notice, above snippet assigned a string to a variable called *this_part* ;)"
   ]
  },
  {
   "cell_type": "markdown",
   "metadata": {},
   "source": [
    "## Building the Anaconda environment for this course "
   ]
  },
  {
   "cell_type": "markdown",
   "metadata": {},
   "source": [
    "Python code is typically written with the `.py` extension.  \n",
    "\n",
    "When a `.py` file is brought into a running Python interpreter (by using **import**), it is called a module. This is an in-memory representation of all of the Python code in the file.  \n",
    "\n",
    "A collection of modules in a directory is called a **package**.  "
   ]
  },
  {
   "cell_type": "markdown",
   "metadata": {},
   "source": [
    "An example: [SciPy](http://www.scipy.org/) is an open source Python library used for scientific computing and technical computing."
   ]
  },
  {
   "cell_type": "code",
   "execution_count": 30,
   "metadata": {},
   "outputs": [],
   "source": [
    "import scipy"
   ]
  },
  {
   "cell_type": "markdown",
   "metadata": {},
   "source": [
    "If any environment has not been previously built inside the SageMaker Studio Lab project or the selected kernel is the `default:Python`, above snippet output probably retrieved an error  "
   ]
  },
  {
   "cell_type": "code",
   "execution_count": null,
   "metadata": {},
   "outputs": [],
   "source": []
  }
 ],
 "metadata": {
  "kernelspec": {
   "display_name": "Python 3",
   "language": "python",
   "name": "python3"
  },
  "language_info": {
   "codemirror_mode": {
    "name": "ipython",
    "version": 3
   },
   "file_extension": ".py",
   "mimetype": "text/x-python",
   "name": "python",
   "nbconvert_exporter": "python",
   "pygments_lexer": "ipython3",
   "version": "3.7.4"
  }
 },
 "nbformat": 4,
 "nbformat_minor": 4
}
