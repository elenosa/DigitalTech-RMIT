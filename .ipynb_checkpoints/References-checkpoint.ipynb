{
 "cells": [
  {
   "cell_type": "markdown",
   "metadata": {},
   "source": [
    "# REFERENCES\n"
   ]
  },
  {
   "cell_type": "markdown",
   "metadata": {},
   "source": [
    "## Module 1  \n",
    "\n",
    "### Lesson 1  \n",
    "\n",
    "1. [Python Programming: a practical appraoch](https://ebookcentral.proquest.com/lib/rmit/reader.action?docID=6666678) by Vijay Kumar Sharma, Vimal Kumar, Swati Sharma, and Shashwat Pathak (2021)\n",
    "2. [Effective Computation in Physics](https://rmit.primo.exlibrisgroup.com/discovery/fulldisplay?docid=alma9921491191001341&context=L&vid=61RMIT_INST:RMITU&lang=en&search_scope=EverythingNOTresearch&adaptor=Local%20Search%20Engine&tab=AllNOTresearch&query=any,contains,effective%20computation%20in%20physics&offset=0): Field Guide to Research with Python by Anthony Scopatz and Kathryn D. Huff (2015)\n",
    "3. [Scipy Lecture Notes](http://scipy-lectures.org/). The editors: Gaël Varoquaux, Emmanuelle Gouillart, Olav Vahtras and Pierre de Buyl (2020.2)\n",
    "4. [Chemical Process Control](https://github.com/jckantor/CBE30338) course repository by Jeffrey Kantor\n",
    "5. [Learn Python 3](https://www.codecademy.com/learn/learn-python-3) course by [codeacademy](https://www.codecademy.com/learn/learn-python-3)\n"
   ]
  },
  {
   "cell_type": "markdown",
   "metadata": {},
   "source": [
    "## General  \n",
    "\n",
    "1. [Advanced Mathematics for Engineerings](https://github.com/nicoguaro/AdvancedMath) course repository by Nicolás Guarín-Zapata (Last updated: 2020)"
   ]
  },
  {
   "cell_type": "code",
   "execution_count": null,
   "metadata": {},
   "outputs": [],
   "source": []
  }
 ],
 "metadata": {
  "kernelspec": {
   "display_name": "Python 3",
   "language": "python",
   "name": "python3"
  },
  "language_info": {
   "codemirror_mode": {
    "name": "ipython",
    "version": 3
   },
   "file_extension": ".py",
   "mimetype": "text/x-python",
   "name": "python",
   "nbconvert_exporter": "python",
   "pygments_lexer": "ipython3",
   "version": "3.7.4"
  }
 },
 "nbformat": 4,
 "nbformat_minor": 4
}
